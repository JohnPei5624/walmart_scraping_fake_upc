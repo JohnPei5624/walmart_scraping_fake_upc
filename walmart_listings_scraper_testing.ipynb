{
 "cells": [
  {
   "cell_type": "code",
   "execution_count": 1,
   "metadata": {},
   "outputs": [],
   "source": [
    "from selenium import webdriver\n",
    "from selenium.webdriver.common.keys import Keys\n",
    "from bs4 import BeautifulSoup\n",
    "import json\n",
    "import pandas as pd\n",
    "import time"
   ]
  },
  {
   "cell_type": "code",
   "execution_count": 2,
   "metadata": {},
   "outputs": [],
   "source": [
    "inputDF = pd.read_csv('upc_full_input.csv', encoding='latin1')"
   ]
  },
  {
   "cell_type": "code",
   "execution_count": 3,
   "metadata": {},
   "outputs": [],
   "source": [
    "driver_1 = webdriver.Chrome()\n",
    "driver_2 = webdriver.Chrome()\n",
    "\n",
    "outputFileName = 'fake_upc_full_output.csv'\n",
    "outputFile = open(outputFileName, 'a', encoding='utf-8')\n",
    "outputFile.write('Input UPC,Walmart Listing ID,Walmart Product ID,Prodict Name,Pharmapacks,Number of Sellers,Output UPC 1,Output UPC 2\\n')\n",
    "outputFile.close()"
   ]
  },
  {
   "cell_type": "code",
   "execution_count": 4,
   "metadata": {},
   "outputs": [],
   "source": [
    "searchHead = 'https://www.walmart.com/search/?query='\n",
    "listingHead = 'https://www.walmart.com/product/'\n",
    "listingTail = '/sellers'\n",
    "\n",
    "count = 0\n",
    "\n",
    "for input_UPC in inputDF['UPC Code']:\n",
    "    input_UPC = str(input_UPC)\n",
    "    searchURL = searchHead + input_UPC\n",
    "    driver_1.get(searchURL)\n",
    "    \n",
    "    try:\n",
    "        listings = driver_1.find_elements_by_class_name('product-title-link.line-clamp.line-clamp-2')\n",
    "        listingIDs = [ x.get_attribute('href').split('/')[-1].split('?')[0] for x in listings ]\n",
    "    except:\n",
    "        outputFile = open(outputFileName, 'a', encoding='utf-8')\n",
    "        outputFile.write(input_UPC +'\\n')\n",
    "        outputFile.close()\n",
    "        continue\n",
    "        \n",
    "    for listingID in listingIDs:\n",
    "        driver_2.get( listingHead + listingID + listingTail )\n",
    "        #json_code = driver_2.find_element_by_xpath(\"//script[@type='application/json']\").get_attribute('innerText')\n",
    "        html = driver_2.page_source\n",
    "        soup = BeautifulSoup(html)\n",
    "        json_code = soup.find('script', id='item').get_text()\n",
    "        json_parsed = json.loads(json_code)\n",
    "        \n",
    "        try:\n",
    "            walmartProductID = json_parsed['item']['productBasicInfo']['selectedProductId']\n",
    "        except:\n",
    "            walmartProductID = ''\n",
    "            \n",
    "        try:\n",
    "            output_UPC_1 = json_parsed['item']['product']['products'][walmartProductID]['upc']\n",
    "        except:\n",
    "            output_UPC_1 = ''\n",
    "            \n",
    "        try:\n",
    "            output_UPC_2 = json_parsed['item']['productBasicInfo'][walmartProductID]['upc']\n",
    "        except:\n",
    "            output_UPC_2 = ''\n",
    "        \n",
    "        try:\n",
    "            productDesc = json_parsed['item']['product']['products'][walmartProductID]['productAttributes']['productName'].replace(',', ';')\n",
    "        except:\n",
    "            productDesc = ''\n",
    "\n",
    "        \n",
    "        \n",
    "        seller_card_list = soup.find_all('a', class_=\"seller-shipping-msg\")\n",
    "        sellerList = [ seller.get_text() for seller in seller_card_list ]\n",
    "        involved = str( 'Pharmapacks' in sellerList )\n",
    "        sellerTotal = str( len(sellerList) )\n",
    "        \n",
    "        \n",
    "        outputFile = open(outputFileName, 'a', encoding='utf-8')\n",
    "        outputFile.write(input_UPC +','+ \n",
    "                         listingID +','+ \n",
    "                         walmartProductID +','+ \n",
    "                         productDesc +','+ \n",
    "                         involved +','+ \n",
    "                         sellerTotal +','+ \n",
    "                         output_UPC_1 +','+ \n",
    "                         output_UPC_2 +'\\n')\n",
    "        outputFile.close()\n",
    "        count += 1\n",
    "    \n",
    "    if count >= 100:\n",
    "        #break\n",
    "        pass\n",
    "        "
   ]
  },
  {
   "cell_type": "code",
   "execution_count": null,
   "metadata": {},
   "outputs": [],
   "source": []
  }
 ],
 "metadata": {
  "kernelspec": {
   "display_name": "Python 3",
   "language": "python",
   "name": "python3"
  },
  "language_info": {
   "codemirror_mode": {
    "name": "ipython",
    "version": 3
   },
   "file_extension": ".py",
   "mimetype": "text/x-python",
   "name": "python",
   "nbconvert_exporter": "python",
   "pygments_lexer": "ipython3",
   "version": "3.7.3"
  }
 },
 "nbformat": 4,
 "nbformat_minor": 2
}
